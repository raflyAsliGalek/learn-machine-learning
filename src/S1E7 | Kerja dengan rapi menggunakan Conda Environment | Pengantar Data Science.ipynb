{
 "cells": [
  {
   "cell_type": "markdown",
   "id": "9f553952-e08a-4043-a37f-59ca43393504",
   "metadata": {
    "scrolled": true
   },
   "source": [
    "https://www.youtube.com/watch?v=RwmhfIT8cvY"
   ]
  },
  {
   "cell_type": "markdown",
   "id": "a0da24d0-6712-4fed-8231-994b2fc61b4e",
   "metadata": {},
   "source": [
    "# INSTALL NUMPY"
   ]
  },
  {
   "cell_type": "code",
   "execution_count": 1,
   "id": "a001fb50-d3fe-4861-94a9-895e6d69e275",
   "metadata": {
    "scrolled": true
   },
   "outputs": [
    {
     "name": "stdout",
     "output_type": "stream",
     "text": [
      "Collecting numpy\n",
      "  Using cached numpy-2.2.5-cp312-cp312-manylinux_2_17_x86_64.manylinux2014_x86_64.whl.metadata (62 kB)\n",
      "Using cached numpy-2.2.5-cp312-cp312-manylinux_2_17_x86_64.manylinux2014_x86_64.whl (16.1 MB)\n",
      "Installing collected packages: numpy\n",
      "Successfully installed numpy-2.2.5\n"
     ]
    }
   ],
   "source": [
    "!pip install numpy"
   ]
  },
  {
   "cell_type": "markdown",
   "id": "b0734cf8-0412-4069-8e5a-d7a7c463b934",
   "metadata": {},
   "source": [
    "# IMPORT NUMPY SEBAGAI NP"
   ]
  },
  {
   "cell_type": "code",
   "execution_count": 2,
   "id": "f10425bb-150f-42db-95df-68d91d5be90a",
   "metadata": {},
   "outputs": [],
   "source": [
    "import numpy as np"
   ]
  },
  {
   "cell_type": "markdown",
   "id": "9720b711-f4cb-4d2e-a124-bf5625891c9a",
   "metadata": {},
   "source": [
    "## CONTOH DATA"
   ]
  },
  {
   "cell_type": "code",
   "execution_count": 4,
   "id": "06bca250-737b-4391-a558-a841bbb71c6b",
   "metadata": {},
   "outputs": [],
   "source": [
    "a = [12,23,34,45,56,67,78,89,101]"
   ]
  },
  {
   "cell_type": "markdown",
   "id": "c44590b3-df9c-4541-94b3-c2282da8f13e",
   "metadata": {
    "jp-MarkdownHeadingCollapsed": true
   },
   "source": [
    "### SUM : Penjumlahan"
   ]
  },
  {
   "cell_type": "code",
   "execution_count": 5,
   "id": "126ba457-36f9-4f46-a998-9adb9cfe1a60",
   "metadata": {},
   "outputs": [
    {
     "name": "stdout",
     "output_type": "stream",
     "text": [
      "505\n"
     ]
    }
   ],
   "source": [
    "print(np.sum(a))"
   ]
  },
  {
   "cell_type": "markdown",
   "id": "d8b4bc5f-790a-4681-b2c0-ea855f2dc1c4",
   "metadata": {
    "jp-MarkdownHeadingCollapsed": true
   },
   "source": [
    "### MEAN : Rata - Rata"
   ]
  },
  {
   "cell_type": "code",
   "execution_count": 6,
   "id": "4431f591-0a98-46a0-82ac-18321cfea51e",
   "metadata": {},
   "outputs": [
    {
     "name": "stdout",
     "output_type": "stream",
     "text": [
      "56.111111111111114\n"
     ]
    }
   ],
   "source": [
    "print(np.mean(a))"
   ]
  },
  {
   "cell_type": "markdown",
   "id": "3d9f675d-6b69-4a0e-8071-cbccd87d8a2f",
   "metadata": {
    "jp-MarkdownHeadingCollapsed": true
   },
   "source": [
    "### STD : RATA RATA JAUH ATAU MEAN YANG LEBIH HIGH LEVEL\n"
   ]
  },
  {
   "cell_type": "markdown",
   "id": "3a48866a-0662-41f7-90e6-bc5fac07d756",
   "metadata": {},
   "source": [
    "**Standard deviation itu cuma cara untuk bilang:**\n",
    "\n",
    "> “Seberapa jauh sih nilai-nilai ini dari rata-ratanya?”\n",
    "\n",
    "---\n",
    "\n",
    "#### 🎲 Misalnya kamu punya angka:\n",
    "\n",
    "```\n",
    "Data = [10, 20, 30]\n",
    "```\n",
    "\n",
    "Langkah-langkahnya:\n",
    "\n",
    "---\n",
    "\n",
    "#### 🧮 1. Cari rata-rata (mean)\n",
    "\n",
    "$$\n",
    "\\text{mean} = (10 + 20 + 30) / 3 = 60 / 3 = 20\n",
    "$$\n",
    "\n",
    "---\n",
    "\n",
    "#### 📏 2. Hitung “jarak” setiap angka dari rata-rata\n",
    "\n",
    "| Angka | Jarak ke Mean | Jarak²       |\n",
    "| ----- | ------------- | ------------ |\n",
    "| 10    | 10 - 20 = -10 | (-10)² = 100 |\n",
    "| 20    | 20 - 20 = 0   | 0² = 0       |\n",
    "| 30    | 30 - 20 = 10  | 10² = 100    |\n",
    "\n",
    "> Kenapa dikwadratkan? Karena kita nggak mau nilai minusnya saling meniadakan.\n",
    "\n",
    "---\n",
    "\n",
    "#### ➗ 3. Hitung rata-rata dari kuadrat jarak-jarak itu:\n",
    "\n",
    "$$\n",
    "(100 + 0 + 100) / 3 = 200 / 3 ≈ 66.67\n",
    "$$\n",
    "\n",
    "---\n",
    "\n",
    "#### 📐 4. Ambil akar dari hasil itu:\n",
    "\n",
    "$$\n",
    "\\sqrt{66.67} ≈ 8.16 ← inilah nilai **standard deviation**\n",
    "$$\n",
    "\n",
    "---\n"
   ]
  },
  {
   "cell_type": "markdown",
   "id": "06e6e23e-8bd5-4d0c-86f6-558180121029",
   "metadata": {
    "jp-MarkdownHeadingCollapsed": true
   },
   "source": [
    "### SIN COS TAN TRIGONOMETRI"
   ]
  },
  {
   "cell_type": "code",
   "execution_count": 9,
   "id": "1ae5ee61-d0b8-450c-a78b-b89b4d74f78d",
   "metadata": {},
   "outputs": [
    {
     "name": "stdout",
     "output_type": "stream",
     "text": [
      "[-0.53657292 -0.8462204   0.52908269  0.85090352 -0.521551   -0.85551998\n",
      "  0.51397846  0.86006941  0.45202579]\n"
     ]
    }
   ],
   "source": [
    "print(np.sin(a))"
   ]
  },
  {
   "cell_type": "code",
   "execution_count": 10,
   "id": "e704962a-2cf4-45d7-ae2b-78cc93da8e86",
   "metadata": {},
   "outputs": [
    {
     "name": "stdout",
     "output_type": "stream",
     "text": [
      "[ 0.84385396 -0.53283302 -0.84857027  0.52532199  0.85322011 -0.5177698\n",
      " -0.85780309  0.51017704  0.89200487]\n"
     ]
    }
   ],
   "source": [
    "print(np.cos(a))"
   ]
  },
  {
   "cell_type": "code",
   "execution_count": 11,
   "id": "2d393fdb-7da1-4ef6-bb89-400b71eac647",
   "metadata": {},
   "outputs": [
    {
     "name": "stdout",
     "output_type": "stream",
     "text": [
      "[-0.63585993  1.58815308 -0.62349896  1.61977519 -0.61127369  1.65231726\n",
      " -0.59918     1.68582537  0.5067526 ]\n"
     ]
    }
   ],
   "source": [
    "print(np.tan(a))"
   ]
  },
  {
   "cell_type": "markdown",
   "id": "9a8a5c18-00e8-448d-9e36-9edc8e22b9d9",
   "metadata": {
    "jp-MarkdownHeadingCollapsed": true
   },
   "source": [
    "### ARANGE, LINGSPACE, LOGSPACE"
   ]
  },
  {
   "cell_type": "markdown",
   "id": "34642471-5d6e-416b-90b1-d797879aea74",
   "metadata": {},
   "source": [
    "#### ✅ 1. `np.arange(start, stop, step)`\n",
    "\n",
    "> Deretan angka dengan jarak tetap (step)\n",
    "\n",
    "##### 🧪 Contoh-contoh:\n",
    "\n",
    "```python\n",
    "np.arange(0, 5, 1)\n",
    "# Output: [0 1 2 3 4]\n",
    "\n",
    "np.arange(5, 10, 2)\n",
    "# Output: [5 7 9]\n",
    "\n",
    "np.arange(0, 1, 0.2)\n",
    "# Output: [0.  0.2 0.4 0.6 0.8]\n",
    "\n",
    "np.arange(10, 0, -2)\n",
    "# Output: [10  8  6  4  2]\n",
    "```\n",
    "\n",
    "##### ⚠️ Catatan:\n",
    "\n",
    "* `stop` **tidak termasuk** hasil\n",
    "* Cocok untuk **angka bulat** atau deret dengan step jelas\n",
    "\n",
    "---\n",
    "\n",
    "#### ✅ 2. `np.linspace(start, stop, num)`\n",
    "\n",
    "> Deretan angka dengan jumlah titik tertentu, dibagi rata\n",
    "\n",
    "##### 🧪 Contoh-contoh:\n",
    "\n",
    "```python\n",
    "np.linspace(0, 1, 5)\n",
    "# Output: [0.   0.25 0.5  0.75 1.  ]\n",
    "\n",
    "np.linspace(1, 10, 10)\n",
    "# Output: [ 1.  2.  3.  4.  5.  6.  7.  8.  9. 10.]\n",
    "\n",
    "np.linspace(5, 0, 6)\n",
    "# Output: [5. 4. 3. 2. 1. 0.]\n",
    "\n",
    "np.linspace(0, 100, 3)\n",
    "# Output: [  0.  50. 100.]\n",
    "```\n",
    "\n",
    "##### ⚠️ Catatan:\n",
    "\n",
    "* Termasuk angka `start` dan `stop`\n",
    "* Cocok untuk grafik, interpolasi, atau pembagian rata\n",
    "\n",
    "---\n",
    "\n",
    "#### ✅ 3. `np.logspace(start, stop, num, base=10.0)`\n",
    "\n",
    "> Deretan angka dalam **skala logaritmik** dari `base^start` ke `base^stop`\n",
    "\n",
    "##### 🧪 Contoh-contoh:\n",
    "\n",
    "```python\n",
    "np.logspace(0, 3, 4)\n",
    "# Output: [   1.   10.  100. 1000.]\n",
    "\n",
    "np.logspace(1, 2, 5)\n",
    "# Output: [ 10.          17.78        31.62        56.23       100.        ]\n",
    "\n",
    "np.logspace(3, 0, 4)\n",
    "# Output: [1000.  100.   10.    1.]\n",
    "\n",
    "np.logspace(0.1, 1, 4, base=2)\n",
    "# Output: [1.07  1.31  1.6   2.  ]  (basis 2)\n",
    "```\n",
    "\n",
    "##### ⚠️ Catatan:\n",
    "\n",
    "* Cocok untuk data eksponensial, seperti frekuensi, skala ilmiah, grafik log\n",
    "* Bisa ubah basis logaritma dengan argumen `base`\n",
    "\n",
    "---\n",
    "\n",
    "#### 🎯 Tips Pemakaian:\n",
    "\n",
    "| Tujuan                      | Pakai Fungsi |\n",
    "| --------------------------- | ------------ |\n",
    "| Deret angka ber-step        | `arange()`   |\n",
    "| Titik-titik dibagi rata     | `linspace()` |\n",
    "| Skala logaritmik (eksponen) | `logspace()` |\n",
    "\n"
   ]
  },
  {
   "cell_type": "markdown",
   "id": "8d7235cf-8b77-4da6-a2ed-dcec51f804e6",
   "metadata": {},
   "source": [
    "## RANDOM"
   ]
  },
  {
   "cell_type": "markdown",
   "id": "e52cafa7-e253-45c9-8034-aad9ca3f699d",
   "metadata": {},
   "source": [
    "Sebuah array besar yang terdapat 2 array didalamnya dan masing masing array terdapat 9 angka random"
   ]
  },
  {
   "cell_type": "code",
   "execution_count": 22,
   "id": "8d00bc75-909e-488c-9f21-b0cf0f08595a",
   "metadata": {},
   "outputs": [
    {
     "data": {
      "text/plain": [
       "array([[0.68241198, 0.14545359, 0.61179462, 0.52585172, 0.31128851,\n",
       "        0.34325185, 0.05195829, 0.25765281, 0.41970636],\n",
       "       [0.44586653, 0.49623074, 0.70838774, 0.54754946, 0.76162375,\n",
       "        0.03281773, 0.21603033, 0.42474388, 0.3879634 ]])"
      ]
     },
     "execution_count": 22,
     "metadata": {},
     "output_type": "execute_result"
    }
   ],
   "source": [
    "np.random.rand(2,9)"
   ]
  },
  {
   "cell_type": "code",
   "execution_count": 24,
   "id": "96f62a1f-b092-4bc2-bbe0-1b460bd62be4",
   "metadata": {},
   "outputs": [
    {
     "data": {
      "text/plain": [
       "array([[0.78815068, 0.13386565],\n",
       "       [0.76155825, 0.96314679],\n",
       "       [0.74247773, 0.33896396],\n",
       "       [0.72862213, 0.00611243],\n",
       "       [0.24082623, 0.24809516],\n",
       "       [0.15385939, 0.90037318],\n",
       "       [0.77817647, 0.43105534],\n",
       "       [0.44352807, 0.49900148],\n",
       "       [0.27660429, 0.53672416]])"
      ]
     },
     "execution_count": 24,
     "metadata": {},
     "output_type": "execute_result"
    }
   ],
   "source": [
    "np.random.rand(9,2)"
   ]
  },
  {
   "cell_type": "markdown",
   "id": "1aa53c26-f2c0-4c28-ba11-5c7b8c296ddc",
   "metadata": {},
   "source": [
    "Sebuah array besar yang terdapat 9 array didalamnya dan masing masing array terdapat 2 angka random"
   ]
  },
  {
   "cell_type": "markdown",
   "id": "b9b57c91-0f40-4767-9ec6-062d9f7b498d",
   "metadata": {},
   "source": [
    "## CONTROLLED RANDOMNESS"
   ]
  },
  {
   "cell_type": "code",
   "execution_count": 27,
   "id": "dc55ca96-9cbd-4716-b6b1-84ad959bd629",
   "metadata": {},
   "outputs": [
    {
     "data": {
      "text/plain": [
       "array([0.37454012, 0.95071431, 0.73199394])"
      ]
     },
     "execution_count": 27,
     "metadata": {},
     "output_type": "execute_result"
    }
   ],
   "source": [
    "state = np.random.RandomState(42)\n",
    "state.rand(3)"
   ]
  },
  {
   "cell_type": "markdown",
   "id": "e15c78ae-e88a-4a6f-b19c-29ac466a81d3",
   "metadata": {
    "jp-MarkdownHeadingCollapsed": true
   },
   "source": [
    "#### ✅ Penjelasan Singkat:\n",
    "\n",
    "### `np.random.RandomState` adalah **objek penghasil bilangan acak** lama di NumPy.\n",
    "\n",
    "> Ini cara untuk **mengontrol atau mengulangi** hasil random — misalnya untuk testing atau eksperimen supaya hasil acaknya **tetap sama setiap dijalankan**.\n",
    "\n",
    "---\n",
    "\n",
    "#### 🧪 Contoh Penggunaan:\n"
   ]
  },
  {
   "cell_type": "code",
   "execution_count": 30,
   "id": "cdf4bba5-33b5-443c-9eff-be98a6c18d8a",
   "metadata": {},
   "outputs": [
    {
     "name": "stdout",
     "output_type": "stream",
     "text": [
      "[6 3 7 4 6]\n"
     ]
    }
   ],
   "source": [
    "rng = np.random.RandomState(42)  # seed 42 → hasil acak jadi konsisten\n",
    "print(rng.randint(0, 10, size=5))"
   ]
  },
  {
   "cell_type": "markdown",
   "id": "83b54ecd-7197-417b-b6be-9444466b7120",
   "metadata": {},
   "source": [
    "Jika kamu ulang lagi baris itu, hasilnya akan **tetap sama** karena pakai seed `42`.\n",
    "\n",
    "---\n",
    "\n",
    "#### ⚠️ Kenapa Ada `RandomState`?\n",
    "\n",
    "* Dulu (`NumPy < 1.17`), semua acakan pakai `RandomState`\n",
    "* Sekarang lebih disarankan pakai:\n",
    "\n",
    "  ```python\n",
    "  rng = np.random.default_rng()\n",
    "  ```\n",
    "\n",
    "  Ini memakai **Generator** yang lebih baru dan lebih aman/statistiknya lebih baik.\n",
    "\n",
    "---\n",
    "\n",
    "#### 🔁 Perbandingan:\n",
    "\n",
    "| Fitur                         | `RandomState`                  | `default_rng()` (baru) |\n",
    "| ----------------------------- | ------------------------------ | ---------------------- |\n",
    "| Versi lama                    | ✅ Digunakan sebelum NumPy 1.17 | ❌                      |\n",
    "| Versi baru (direkomendasikan) | ❌                              | ✅ Sejak NumPy 1.17     |\n",
    "| Tetap hasil acak (pakai seed) | ✅ Ya                           | ✅ Ya                   |\n",
    "\n",
    "---\n",
    "\n",
    "#### 🎯 Kapan Pakai?\n",
    "\n",
    "* Kalau kamu pakai **kode lama**: mungkin masih pakai `RandomState`\n",
    "* Kalau mulai proyek baru: **pakai `default_rng()`** saja\n"
   ]
  },
  {
   "cell_type": "markdown",
   "id": "7afa793c-1e93-4be8-850e-ebd97f81befc",
   "metadata": {},
   "source": [
    "### Randint"
   ]
  },
  {
   "cell_type": "code",
   "execution_count": 34,
   "id": "1de2b67d-8a6d-40ba-999a-3e9a6a9df734",
   "metadata": {},
   "outputs": [
    {
     "data": {
      "text/plain": [
       "2"
      ]
     },
     "execution_count": 34,
     "metadata": {},
     "output_type": "execute_result"
    }
   ],
   "source": [
    "np.random.randint(1,5)"
   ]
  },
  {
   "cell_type": "code",
   "execution_count": null,
   "id": "2efa65f9-ef0c-4e2b-9d87-a35143c9c067",
   "metadata": {},
   "outputs": [],
   "source": [
    "Data acak diantara 1 - 5"
   ]
  }
 ],
 "metadata": {
  "kernelspec": {
   "display_name": "Python 3 (ipykernel)",
   "language": "python",
   "name": "python3"
  },
  "language_info": {
   "codemirror_mode": {
    "name": "ipython",
    "version": 3
   },
   "file_extension": ".py",
   "mimetype": "text/x-python",
   "name": "python",
   "nbconvert_exporter": "python",
   "pygments_lexer": "ipython3",
   "version": "3.12.3"
  }
 },
 "nbformat": 4,
 "nbformat_minor": 5
}
